{
 "cells": [
  {
   "cell_type": "markdown",
   "metadata": {},
   "source": [
    "# Índice de *Jaccard*\n",
    "\n",
    "O índice de *Jaccard*, ou coeficiente de similaridade de *Jaccard*, é uma técnica estatística usada para medir a similaridade e diversidade de conjuntos de amostras, desenvolvida por Paul Jaccard. \n",
    "\n",
    "O coeficiente de *Jaccard* mede a similaridade entre conjuntos de amostra e é definido como o tamanho da interseção dividido pelo tamanho da união dos conjuntos de amostra.\n",
    "\n",
    "Vamos criar o método na mão, mas precisaremos do pacote `strip_punctuation` da biblioteca `gensim` para retirar caracteres com pontuação."
   ]
  },
  {
   "cell_type": "code",
   "execution_count": 1,
   "metadata": {},
   "outputs": [],
   "source": [
    "from gensim.parsing.preprocessing import strip_punctuation\n"
   ]
  },
  {
   "cell_type": "markdown",
   "metadata": {},
   "source": [
    "Definindo o método que calcula a interseção entre as duas strings e divide pelo tamanho da união das duas. O método `strip_punctuation` substitui caracteres de pontuação por espaços."
   ]
  },
  {
   "cell_type": "code",
   "execution_count": 2,
   "metadata": {},
   "outputs": [],
   "source": [
    "def calcular_similaridade_jaccard(texto1, texto2):\n",
    "    texto1 = str(texto1).lower()\n",
    "    texto1 = strip_punctuation(texto1)\n",
    "    \n",
    "    texto2 = str(texto2).lower()\n",
    "    texto2 = strip_punctuation(texto2)\n",
    "    \n",
    "    s1 = set(texto1.split())\n",
    "    s2 = set(texto2.split())\n",
    "          \n",
    "    return float(len(s1.intersection(s2)) / len(s1.union(s2)))"
   ]
  },
  {
   "cell_type": "code",
   "execution_count": 7,
   "metadata": {},
   "outputs": [],
   "source": [
    "frase1 = ('Esta é uma frase')\n",
    "frase2 = ('Esta é outra frase')\n"
   ]
  },
  {
   "cell_type": "code",
   "execution_count": 6,
   "metadata": {},
   "outputs": [
    {
     "name": "stdout",
     "output_type": "stream",
     "text": [
      "Jaccard: 0.6\n"
     ]
    }
   ],
   "source": [
    "print(\"Jaccard: {}\".format(calcular_similaridade_jaccard(frase1, frase2)))\n"
   ]
  },
  {
   "cell_type": "code",
   "execution_count": 16,
   "metadata": {},
   "outputs": [],
   "source": [
    "frase1 = ('Que dia bonito!')\n",
    "frase2 = ('Que tarde bonita!')\n"
   ]
  },
  {
   "cell_type": "code",
   "execution_count": 17,
   "metadata": {},
   "outputs": [
    {
     "name": "stdout",
     "output_type": "stream",
     "text": [
      "Jaccard: 0.2\n"
     ]
    }
   ],
   "source": [
    "print(\"Jaccard: {}\".format(calcular_similaridade_jaccard(frase1, frase2)))\n"
   ]
  },
  {
   "cell_type": "code",
   "execution_count": 18,
   "metadata": {},
   "outputs": [],
   "source": [
    "frase1 = ('Buscando similaridade entre duas sentenças de um documento')\n",
    "frase2= ('Quero saber o grau de similaridade entre duas frases pertencentes a um mesmo documento')"
   ]
  },
  {
   "cell_type": "code",
   "execution_count": 19,
   "metadata": {},
   "outputs": [
    {
     "name": "stdout",
     "output_type": "stream",
     "text": [
      "Jaccard: 0.375\n"
     ]
    }
   ],
   "source": [
    "print(\"Jaccard: {}\".format(calcular_similaridade_jaccard(frase1, frase2)))\n"
   ]
  },
  {
   "cell_type": "markdown",
   "metadata": {},
   "source": [
    "No [próximo *notebook*](https://github.com/lisaterumi/similaridade-string-python/blob/main/Similaridade_de_strings_com_BERT_e_NLU.ipynb) vamos ver um exemplo bem poderoso de calcular a similaridade entre strings, usando BERT e NLU."
   ]
  }
 ],
 "metadata": {
  "kernelspec": {
   "display_name": "Python 3",
   "language": "python",
   "name": "python3"
  },
  "language_info": {
   "codemirror_mode": {
    "name": "ipython",
    "version": 3
   },
   "file_extension": ".py",
   "mimetype": "text/x-python",
   "name": "python",
   "nbconvert_exporter": "python",
   "pygments_lexer": "ipython3",
   "version": "3.6.12"
  }
 },
 "nbformat": 4,
 "nbformat_minor": 4
}
