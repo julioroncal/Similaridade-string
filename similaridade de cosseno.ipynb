{
 "cells": [
  {
   "cell_type": "markdown",
   "metadata": {},
   "source": [
    "# Similaridade de cosseno\n",
    "\n",
    "A similaridade de cosseno é uma métrica usada para determinar o quão semelhantes dois documentos são, independentemente de seu tamanho. Matematicamente, é medido o cosseno do ângulo entre dois vetores projetados em um espaço multidimensional (sendo que os vetores nada mais são do que as matrizes contendo a contagem de palavras dos documentos).\n",
    "\n",
    "Quando plotado em um espaço multidimensional, onde cada dimensão corresponde a uma palavra no documento, a similaridade do cosseno captura a orientação (ou seja, o o ângulo) dos documentos e não a magnitude. Para calcular a magnitude, devemos usar a distância euclidiana.\n",
    "\n",
    "A semelhança de cosseno é vantajosa quando precisamos determinar o quão semelhantes os textos são, independentemente de seu tamanho.\n",
    "\n",
    "### tf-idf\n",
    "\n",
    "Para criar nossos vetores contendo a contagem de palavras, vamos usar o valor tf–idf (abreviação do inglês para *term frequency–inverse document frequency*), que indica a importância de uma palavra de um documento em relação a uma coleção de documentos.\n",
    "\n",
    "O valor tf–idf de uma palavra aumenta proporcionalmente à medida que aumenta o número de ocorrências dela em um documento, no entanto, esse valor é equilibrado pela frequência da palavra no corpus. Isso auxilia a distinguir o fato da ocorrência de algumas palavras serem geralmente mais comuns que outras, ou seja, se uma palavra for muito comum a todos os documentos, ela é considerada menos relevante.\n",
    "\n",
    "### Pacote `sklearn`\n",
    "\n",
    "Aqui, vamos usar o pacote `cosine_similarity`do `sklearn`, bem como o `TfidfVectorizer` para encontrar os valores [tf-idf](https://pt.wikipedia.org/wiki/Tf%E2%80%93idf) de cada texto."
   ]
  },
  {
   "cell_type": "code",
   "execution_count": 1,
   "metadata": {},
   "outputs": [],
   "source": [
    "from sklearn.feature_extraction.text import TfidfVectorizer\n",
    "from sklearn.metrics.pairwise import cosine_similarity"
   ]
  },
  {
   "cell_type": "code",
   "execution_count": 3,
   "metadata": {},
   "outputs": [
    {
     "name": "stdout",
     "output_type": "stream",
     "text": [
      "0.5031026124151314\n",
      "0.20199309249791836\n",
      "0.4501755023269899\n"
     ]
    }
   ],
   "source": [
    "example_1 = ('Esta é uma frase', 'Esta é outra frase')\n",
    "example_2 = ('Que dia bonito!', 'Que tarde bonita!')\n",
    "example_3 = ('Buscando similaridade entre duas sentenças de um documento', 'Quero saber o grau de similaridade entre duas frases pertencentes a um mesmo documento')\n",
    "\n",
    "tfidf_vectorizer = TfidfVectorizer()\n",
    "tfidf_matrix = tfidf_vectorizer.fit_transform(example_1)\n",
    "result_cos = cosine_similarity(tfidf_matrix[0:1], tfidf_matrix)\n",
    "print(result_cos[0][1])\n",
    "\n",
    "tfidf_matrix = tfidf_vectorizer.fit_transform(example_2)\n",
    "result_cos = cosine_similarity(tfidf_matrix[0:1], tfidf_matrix)\n",
    "print(result_cos[0][1])\n",
    "\n",
    "tfidf_matrix = tfidf_vectorizer.fit_transform(example_3)\n",
    "result_cos = cosine_similarity(tfidf_matrix[0:1], tfidf_matrix)\n",
    "print(result_cos[0][1])"
   ]
  },
  {
   "cell_type": "markdown",
   "metadata": {},
   "source": [
    "[Na sequência](#), vamos fazer um teste com o índice de Jaccard."
   ]
  }
 ],
 "metadata": {
  "kernelspec": {
   "display_name": "Python 3",
   "language": "python",
   "name": "python3"
  },
  "language_info": {
   "codemirror_mode": {
    "name": "ipython",
    "version": 3
   },
   "file_extension": ".py",
   "mimetype": "text/x-python",
   "name": "python",
   "nbconvert_exporter": "python",
   "pygments_lexer": "ipython3",
   "version": "3.8.5"
  }
 },
 "nbformat": 4,
 "nbformat_minor": 4
}
