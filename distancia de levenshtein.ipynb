{
 "cells": [
  {
   "cell_type": "markdown",
   "metadata": {},
   "source": [
    "# Distância de *Levenshtein*\n",
    "\n",
    "A distância de *Levenshtein*, ou distância de edição entre duas strings, é dada pelo número mínimo de operações necessárias para transformar uma string em outra. \n",
    "\n",
    "Entendemos por \"operações\" a inserção, deleção ou substituição de um caracter. O nome advém do cientista russo Vladimir Levenshtein, que considerou esta distância já em 1965. É muito útil para aplicações que precisam determinar quão semelhantes dois textos são.\n",
    "\n",
    "### Opção 1 - Jellyfish\n",
    "\n",
    "Em python, vamos usar o pacote [`jellyfish`](https://pypi.org/project/jellyfish/) para determinar a similaridade entre duas strings usando a medida de *Levenshtein*.\n",
    "\n",
    "Use:\n",
    "\n",
    "```pip install jellyfish```\n"
   ]
  },
  {
   "cell_type": "code",
   "execution_count": 1,
   "metadata": {},
   "outputs": [],
   "source": [
    "import jellyfish as jf"
   ]
  },
  {
   "cell_type": "markdown",
   "metadata": {},
   "source": [
    "Exemplo de uso:"
   ]
  },
  {
   "cell_type": "code",
   "execution_count": 2,
   "metadata": {},
   "outputs": [
    {
     "name": "stdout",
     "output_type": "stream",
     "text": [
      "1\n"
     ]
    }
   ],
   "source": [
    "print(jf.levenshtein_distance('gato', 'rato'))\n"
   ]
  },
  {
   "cell_type": "markdown",
   "metadata": {},
   "source": [
    "Na execução acima, vemos que o resultado entre as palavras \"gato\" e \"rato\" é 1, ou seja, precisamos trocar apenas um caracter para formar uma palavra tendo como ponto de partida, a outra.\n",
    "\n",
    "Outros exemplos:"
   ]
  },
  {
   "cell_type": "code",
   "execution_count": 7,
   "metadata": {},
   "outputs": [
    {
     "name": "stdout",
     "output_type": "stream",
     "text": [
      "3\n",
      "6\n",
      "4\n"
     ]
    }
   ],
   "source": [
    "print(jf.levenshtein_distance('Esta é uma frase', 'Esta é outra frase'))\n",
    "print(jf.levenshtein_distance('Que dia bonito!', 'Que tarde bonita!'))\n",
    "print(jf.levenshtein_distance('Levenshtein', 'Lenvinsten'))"
   ]
  },
  {
   "cell_type": "markdown",
   "metadata": {},
   "source": [
    "### Opção 2 - Pacote Levenshtein\n",
    "\n",
    "Outra opção é usar o pacote [`python-Levenshtein`](https://pypi.org/project/python-Levenshtein/), que fornece várias funções além de encontrar a distância entre duas strings, como encontrar uma string mediana aproximada dentre várias outras strings.\n",
    "\n",
    "Use:\n",
    "\n",
    "```pip install python-Levenshtein```"
   ]
  },
  {
   "cell_type": "code",
   "execution_count": 5,
   "metadata": {},
   "outputs": [],
   "source": [
    "from Levenshtein import *\n"
   ]
  },
  {
   "cell_type": "code",
   "execution_count": 11,
   "metadata": {},
   "outputs": [
    {
     "name": "stdout",
     "output_type": "stream",
     "text": [
      "3\n",
      "6\n",
      "4\n"
     ]
    }
   ],
   "source": [
    "print(distance('Esta é uma frase', 'Esta é outra frase'))\n",
    "print(distance('Que dia bonito!', 'Que tarde bonita!'))\n",
    "print(distance('Levenshtein', 'Lenvinsten'))"
   ]
  },
  {
   "cell_type": "markdown",
   "metadata": {},
   "source": [
    "Os resultados são os mesmos. Existem outras maneiras de encontrar a distância ou similaridade entre duas strings, vamos ver no [próximo notebook](#)."
   ]
  }
 ],
 "metadata": {
  "kernelspec": {
   "display_name": "Python 3",
   "language": "python",
   "name": "python3"
  },
  "language_info": {
   "codemirror_mode": {
    "name": "ipython",
    "version": 3
   },
   "file_extension": ".py",
   "mimetype": "text/x-python",
   "name": "python",
   "nbconvert_exporter": "python",
   "pygments_lexer": "ipython3",
   "version": "3.8.5"
  }
 },
 "nbformat": 4,
 "nbformat_minor": 4
}
